{
 "cells": [
  {
   "cell_type": "code",
   "execution_count": 1,
   "id": "a37a30d6-eea0-4d7c-8e5a-0e427ee1179a",
   "metadata": {},
   "outputs": [],
   "source": [
    "import pandas as pd\n",
    "import os\n",
    "import sys\n",
    "from sklearn.feature_extraction.text import CountVectorizer\n",
    "import numpy as np\n",
    "import matplotlib.pyplot as plt\n",
    "import seaborn as sns\n",
    "import re\n",
    "import gensim\n",
    "from gensim.utils import simple_preprocess\n",
    "import spacy\n",
    "from wordcloud import WordCloud"
   ]
  },
  {
   "cell_type": "code",
   "execution_count": 2,
   "id": "0bbd81c1-93ed-4a96-b982-114fa73d9987",
   "metadata": {},
   "outputs": [
    {
     "data": {
      "text/html": [
       "<div>\n",
       "<style scoped>\n",
       "    .dataframe tbody tr th:only-of-type {\n",
       "        vertical-align: middle;\n",
       "    }\n",
       "\n",
       "    .dataframe tbody tr th {\n",
       "        vertical-align: top;\n",
       "    }\n",
       "\n",
       "    .dataframe thead th {\n",
       "        text-align: right;\n",
       "    }\n",
       "</style>\n",
       "<table border=\"1\" class=\"dataframe\">\n",
       "  <thead>\n",
       "    <tr style=\"text-align: right;\">\n",
       "      <th></th>\n",
       "      <th>review</th>\n",
       "      <th>sentiment</th>\n",
       "    </tr>\n",
       "  </thead>\n",
       "  <tbody>\n",
       "    <tr>\n",
       "      <th>0</th>\n",
       "      <td>One of the other reviewers has mentioned that ...</td>\n",
       "      <td>positive</td>\n",
       "    </tr>\n",
       "    <tr>\n",
       "      <th>1</th>\n",
       "      <td>A wonderful little production. &lt;br /&gt;&lt;br /&gt;The...</td>\n",
       "      <td>positive</td>\n",
       "    </tr>\n",
       "    <tr>\n",
       "      <th>2</th>\n",
       "      <td>I thought this was a wonderful way to spend ti...</td>\n",
       "      <td>positive</td>\n",
       "    </tr>\n",
       "    <tr>\n",
       "      <th>3</th>\n",
       "      <td>Basically there's a family where a little boy ...</td>\n",
       "      <td>negative</td>\n",
       "    </tr>\n",
       "    <tr>\n",
       "      <th>4</th>\n",
       "      <td>Petter Mattei's \"Love in the Time of Money\" is...</td>\n",
       "      <td>positive</td>\n",
       "    </tr>\n",
       "    <tr>\n",
       "      <th>...</th>\n",
       "      <td>...</td>\n",
       "      <td>...</td>\n",
       "    </tr>\n",
       "    <tr>\n",
       "      <th>49995</th>\n",
       "      <td>I thought this movie did a down right good job...</td>\n",
       "      <td>positive</td>\n",
       "    </tr>\n",
       "    <tr>\n",
       "      <th>49996</th>\n",
       "      <td>Bad plot, bad dialogue, bad acting, idiotic di...</td>\n",
       "      <td>negative</td>\n",
       "    </tr>\n",
       "    <tr>\n",
       "      <th>49997</th>\n",
       "      <td>I am a Catholic taught in parochial elementary...</td>\n",
       "      <td>negative</td>\n",
       "    </tr>\n",
       "    <tr>\n",
       "      <th>49998</th>\n",
       "      <td>I'm going to have to disagree with the previou...</td>\n",
       "      <td>negative</td>\n",
       "    </tr>\n",
       "    <tr>\n",
       "      <th>49999</th>\n",
       "      <td>No one expects the Star Trek movies to be high...</td>\n",
       "      <td>negative</td>\n",
       "    </tr>\n",
       "  </tbody>\n",
       "</table>\n",
       "<p>50000 rows × 2 columns</p>\n",
       "</div>"
      ],
      "text/plain": [
       "                                                  review sentiment\n",
       "0      One of the other reviewers has mentioned that ...  positive\n",
       "1      A wonderful little production. <br /><br />The...  positive\n",
       "2      I thought this was a wonderful way to spend ti...  positive\n",
       "3      Basically there's a family where a little boy ...  negative\n",
       "4      Petter Mattei's \"Love in the Time of Money\" is...  positive\n",
       "...                                                  ...       ...\n",
       "49995  I thought this movie did a down right good job...  positive\n",
       "49996  Bad plot, bad dialogue, bad acting, idiotic di...  negative\n",
       "49997  I am a Catholic taught in parochial elementary...  negative\n",
       "49998  I'm going to have to disagree with the previou...  negative\n",
       "49999  No one expects the Star Trek movies to be high...  negative\n",
       "\n",
       "[50000 rows x 2 columns]"
      ]
     },
     "execution_count": 2,
     "metadata": {},
     "output_type": "execute_result"
    }
   ],
   "source": [
    "data_frame = pd.read_csv('IMDB Dataset.csv')\n",
    "data_frame"
   ]
  },
  {
   "cell_type": "code",
   "execution_count": 3,
   "id": "e20802d5-f032-41d1-a866-13e56614a8ff",
   "metadata": {},
   "outputs": [],
   "source": [
    "df = data_frame.copy()"
   ]
  },
  {
   "cell_type": "code",
   "execution_count": 4,
   "id": "90b26b0c-b636-4f63-94b0-dc096fe943fb",
   "metadata": {},
   "outputs": [
    {
     "data": {
      "text/plain": [
       "sentiment\n",
       "positive    25000\n",
       "negative    25000\n",
       "Name: count, dtype: int64"
      ]
     },
     "execution_count": 4,
     "metadata": {},
     "output_type": "execute_result"
    }
   ],
   "source": [
    "df['sentiment'].value_counts()"
   ]
  },
  {
   "cell_type": "code",
   "execution_count": 5,
   "id": "0bd630e1-e67a-46b4-91fd-15b04614b754",
   "metadata": {},
   "outputs": [
    {
     "data": {
      "text/plain": [
       "(50000, 2)"
      ]
     },
     "execution_count": 5,
     "metadata": {},
     "output_type": "execute_result"
    }
   ],
   "source": [
    "df.shape"
   ]
  },
  {
   "cell_type": "code",
   "execution_count": 6,
   "id": "d552a5fb-3573-445e-a49f-0afca3afe4cd",
   "metadata": {},
   "outputs": [
    {
     "data": {
      "text/plain": [
       "review       0\n",
       "sentiment    0\n",
       "dtype: int64"
      ]
     },
     "execution_count": 6,
     "metadata": {},
     "output_type": "execute_result"
    }
   ],
   "source": [
    "df.isnull().sum()"
   ]
  },
  {
   "cell_type": "code",
   "execution_count": 7,
   "id": "94a89515-ab60-4d3c-9840-b07303fe4017",
   "metadata": {},
   "outputs": [
    {
     "data": {
      "text/plain": [
       "418"
      ]
     },
     "execution_count": 7,
     "metadata": {},
     "output_type": "execute_result"
    }
   ],
   "source": [
    "df.duplicated().sum()"
   ]
  },
  {
   "cell_type": "code",
   "execution_count": 8,
   "id": "7109763e-b2b4-41ef-bb41-97f18fec3b2b",
   "metadata": {},
   "outputs": [
    {
     "data": {
      "text/html": [
       "<div>\n",
       "<style scoped>\n",
       "    .dataframe tbody tr th:only-of-type {\n",
       "        vertical-align: middle;\n",
       "    }\n",
       "\n",
       "    .dataframe tbody tr th {\n",
       "        vertical-align: top;\n",
       "    }\n",
       "\n",
       "    .dataframe thead th {\n",
       "        text-align: right;\n",
       "    }\n",
       "</style>\n",
       "<table border=\"1\" class=\"dataframe\">\n",
       "  <thead>\n",
       "    <tr style=\"text-align: right;\">\n",
       "      <th></th>\n",
       "      <th>review</th>\n",
       "      <th>sentiment</th>\n",
       "    </tr>\n",
       "  </thead>\n",
       "  <tbody>\n",
       "    <tr>\n",
       "      <th>3537</th>\n",
       "      <td>Quite what the producers of this appalling ada...</td>\n",
       "      <td>negative</td>\n",
       "    </tr>\n",
       "    <tr>\n",
       "      <th>3769</th>\n",
       "      <td>My favourite police series of all time turns t...</td>\n",
       "      <td>positive</td>\n",
       "    </tr>\n",
       "    <tr>\n",
       "      <th>4391</th>\n",
       "      <td>Beautiful film, pure Cassavetes style. Gena Ro...</td>\n",
       "      <td>positive</td>\n",
       "    </tr>\n",
       "    <tr>\n",
       "      <th>6352</th>\n",
       "      <td>If you liked the Grinch movie... go watch that...</td>\n",
       "      <td>negative</td>\n",
       "    </tr>\n",
       "    <tr>\n",
       "      <th>6479</th>\n",
       "      <td>I want very much to believe that the above quo...</td>\n",
       "      <td>negative</td>\n",
       "    </tr>\n",
       "    <tr>\n",
       "      <th>...</th>\n",
       "      <td>...</td>\n",
       "      <td>...</td>\n",
       "    </tr>\n",
       "    <tr>\n",
       "      <th>49912</th>\n",
       "      <td>This is an incredible piece of drama and power...</td>\n",
       "      <td>positive</td>\n",
       "    </tr>\n",
       "    <tr>\n",
       "      <th>49950</th>\n",
       "      <td>This was a very brief episode that appeared in...</td>\n",
       "      <td>negative</td>\n",
       "    </tr>\n",
       "    <tr>\n",
       "      <th>49984</th>\n",
       "      <td>Hello it is I Derrick Cannon and I welcome you...</td>\n",
       "      <td>negative</td>\n",
       "    </tr>\n",
       "    <tr>\n",
       "      <th>49986</th>\n",
       "      <td>This movie is a disgrace to the Major League F...</td>\n",
       "      <td>negative</td>\n",
       "    </tr>\n",
       "    <tr>\n",
       "      <th>49991</th>\n",
       "      <td>Les Visiteurs, the first movie about the medie...</td>\n",
       "      <td>negative</td>\n",
       "    </tr>\n",
       "  </tbody>\n",
       "</table>\n",
       "<p>418 rows × 2 columns</p>\n",
       "</div>"
      ],
      "text/plain": [
       "                                                  review sentiment\n",
       "3537   Quite what the producers of this appalling ada...  negative\n",
       "3769   My favourite police series of all time turns t...  positive\n",
       "4391   Beautiful film, pure Cassavetes style. Gena Ro...  positive\n",
       "6352   If you liked the Grinch movie... go watch that...  negative\n",
       "6479   I want very much to believe that the above quo...  negative\n",
       "...                                                  ...       ...\n",
       "49912  This is an incredible piece of drama and power...  positive\n",
       "49950  This was a very brief episode that appeared in...  negative\n",
       "49984  Hello it is I Derrick Cannon and I welcome you...  negative\n",
       "49986  This movie is a disgrace to the Major League F...  negative\n",
       "49991  Les Visiteurs, the first movie about the medie...  negative\n",
       "\n",
       "[418 rows x 2 columns]"
      ]
     },
     "execution_count": 8,
     "metadata": {},
     "output_type": "execute_result"
    }
   ],
   "source": [
    "duplicated_rows = df[df.duplicated()]\n",
    "duplicated_rows"
   ]
  },
  {
   "cell_type": "code",
   "execution_count": 9,
   "id": "f2eac53d-99f4-499a-aafd-6746652ba825",
   "metadata": {},
   "outputs": [],
   "source": [
    "df = df.drop_duplicates()"
   ]
  },
  {
   "cell_type": "code",
   "execution_count": 11,
   "id": "4b049d04-b389-46ba-85f3-b217a8a1e67d",
   "metadata": {},
   "outputs": [
    {
     "data": {
      "text/plain": [
       "sentiment\n",
       "positive    24884\n",
       "negative    24698\n",
       "Name: count, dtype: int64"
      ]
     },
     "execution_count": 11,
     "metadata": {},
     "output_type": "execute_result"
    }
   ],
   "source": [
    "df['sentiment'].value_counts()"
   ]
  },
  {
   "cell_type": "code",
   "execution_count": 12,
   "id": "21ce3762-9bcb-4155-bc0b-77a53b249c8a",
   "metadata": {},
   "outputs": [
    {
     "data": {
      "text/plain": [
       "(49582, 2)"
      ]
     },
     "execution_count": 12,
     "metadata": {},
     "output_type": "execute_result"
    }
   ],
   "source": [
    "df.shape"
   ]
  },
  {
   "cell_type": "code",
   "execution_count": 31,
   "id": "940bcb4a-9ee5-4c76-97da-6cd714df41ae",
   "metadata": {},
   "outputs": [
    {
     "data": {
      "image/png": "[encoded data removed]",
      "text/plain": [
       "<Figure size 640x480 with 1 Axes>"
      ]
     },
     "metadata": {},
     "output_type": "display_data"
    }
   ],
   "source": [
    "ax = df['sentiment'].value_counts().plot(kind='bar')\n",
    "for rect in ax.patches:\n",
    "    x = rect.get_x() + rect.get_width() / 2\n",
    "    y = rect.get_height()\n",
    "    text = '{:.2f}%'.format(y / len(df) * 100)\n",
    "    ax.text(x, y, text, ha='center', va='bottom', fontsize=10, color='black')\n",
    "plt.show()"
   ]
  },
  {
   "cell_type": "code",
   "execution_count": 34,
   "id": "a0cb937e-aa56-4a5b-b159-6929f92b1002",
   "metadata": {},
   "outputs": [],
   "source": [
    "#text preprocessing\n",
    "def lower_case(txt):\n",
    "    return (txt.lower())\n",
    "    \n",
    "df['review'] = df['review'].apply(lower_case)"
   ]
  },
  {
   "cell_type": "code",
   "execution_count": 35,
   "id": "7a385c78-8e81-4371-b1c8-40872ebeb1c6",
   "metadata": {},
   "outputs": [
    {
     "data": {
      "text/plain": [
       "0        one of the other reviewers has mentioned that ...\n",
       "1        a wonderful little production. <br /><br />the...\n",
       "2        i thought this was a wonderful way to spend ti...\n",
       "3        basically there's a family where a little boy ...\n",
       "4        petter mattei's \"love in the time of money\" is...\n",
       "                               ...                        \n",
       "49995    i thought this movie did a down right good job...\n",
       "49996    bad plot, bad dialogue, bad acting, idiotic di...\n",
       "49997    i am a catholic taught in parochial elementary...\n",
       "49998    i'm going to have to disagree with the previou...\n",
       "49999    no one expects the star trek movies to be high...\n",
       "Name: review, Length: 49582, dtype: object"
      ]
     },
     "execution_count": 35,
     "metadata": {},
     "output_type": "execute_result"
    }
   ],
   "source": [
    "df['review']"
   ]
  },
  {
   "cell_type": "code",
   "execution_count": 36,
   "id": "cd56a651-a2bc-4c25-97f8-150e59082e0d",
   "metadata": {},
   "outputs": [],
   "source": [
    "#word tokenization\n",
    "def tokenize_words(sentences):\n",
    "    for sentence in sentences:\n",
    "        yield(simple_preprocess(str(sentence), deacc=True))"
   ]
  },
  {
   "cell_type": "code",
   "execution_count": 38,
   "id": "d93da803-8c66-4258-bfea-484faacdf42d",
   "metadata": {},
   "outputs": [],
   "source": [
    "data = df['review'].tolist()[:500]"
   ]
  },
  {
   "cell_type": "code",
   "execution_count": 41,
   "id": "8c49fa85-18bd-4a4a-be1e-73991d7c23cd",
   "metadata": {},
   "outputs": [],
   "source": [
    "data_words = list(tokenize_words(data))"
   ]
  },
  {
   "cell_type": "code",
   "execution_count": 42,
   "id": "bfa0f8e7-f110-4f0a-9495-0cd71cf9267b",
   "metadata": {},
   "outputs": [
    {
     "data": {
      "text/plain": [
       "[['one',\n",
       "  'of',\n",
       "  'the',\n",
       "  'other',\n",
       "  'reviewers',\n",
       "  'has',\n",
       "  'mentioned',\n",
       "  'that',\n",
       "  'after',\n",
       "  'watching',\n",
       "  'just',\n",
       "  'oz',\n",
       "  'episode',\n",
       "  'you',\n",
       "  'll',\n",
       "  'be',\n",
       "  'hooked',\n",
       "  'they',\n",
       "  'are',\n",
       "  'right',\n",
       "  'as',\n",
       "  'this',\n",
       "  'is',\n",
       "  'exactly',\n",
       "  'what',\n",
       "  'happened',\n",
       "  'with',\n",
       "  'me',\n",
       "  'br',\n",
       "  'br',\n",
       "  'the',\n",
       "  'first',\n",
       "  'thing',\n",
       "  'that',\n",
       "  'struck',\n",
       "  'me',\n",
       "  'about',\n",
       "  'oz',\n",
       "  'was',\n",
       "  'its',\n",
       "  'brutality',\n",
       "  'and',\n",
       "  'unflinching',\n",
       "  'scenes',\n",
       "  'of',\n",
       "  'violence',\n",
       "  'which',\n",
       "  'set',\n",
       "  'in',\n",
       "  'right',\n",
       "  'from',\n",
       "  'the',\n",
       "  'word',\n",
       "  'go',\n",
       "  'trust',\n",
       "  'me',\n",
       "  'this',\n",
       "  'is',\n",
       "  'not',\n",
       "  'show',\n",
       "  'for',\n",
       "  'the',\n",
       "  'faint',\n",
       "  'hearted',\n",
       "  'or',\n",
       "  'timid',\n",
       "  'this',\n",
       "  'show',\n",
       "  'pulls',\n",
       "  'no',\n",
       "  'punches',\n",
       "  'with',\n",
       "  'regards',\n",
       "  'to',\n",
       "  'drugs',\n",
       "  'sex',\n",
       "  'or',\n",
       "  'violence',\n",
       "  'its',\n",
       "  'is',\n",
       "  'hardcore',\n",
       "  'in',\n",
       "  'the',\n",
       "  'classic',\n",
       "  'use',\n",
       "  'of',\n",
       "  'the',\n",
       "  'word',\n",
       "  'br',\n",
       "  'br',\n",
       "  'it',\n",
       "  'is',\n",
       "  'called',\n",
       "  'oz',\n",
       "  'as',\n",
       "  'that',\n",
       "  'is',\n",
       "  'the',\n",
       "  'nickname',\n",
       "  'given',\n",
       "  'to',\n",
       "  'the',\n",
       "  'oswald',\n",
       "  'maximum',\n",
       "  'security',\n",
       "  'state',\n",
       "  'penitentary',\n",
       "  'it',\n",
       "  'focuses',\n",
       "  'mainly',\n",
       "  'on',\n",
       "  'emerald',\n",
       "  'city',\n",
       "  'an',\n",
       "  'experimental',\n",
       "  'section',\n",
       "  'of',\n",
       "  'the',\n",
       "  'prison',\n",
       "  'where',\n",
       "  'all',\n",
       "  'the',\n",
       "  'cells',\n",
       "  'have',\n",
       "  'glass',\n",
       "  'fronts',\n",
       "  'and',\n",
       "  'face',\n",
       "  'inwards',\n",
       "  'so',\n",
       "  'privacy',\n",
       "  'is',\n",
       "  'not',\n",
       "  'high',\n",
       "  'on',\n",
       "  'the',\n",
       "  'agenda',\n",
       "  'em',\n",
       "  'city',\n",
       "  'is',\n",
       "  'home',\n",
       "  'to',\n",
       "  'many',\n",
       "  'aryans',\n",
       "  'muslims',\n",
       "  'gangstas',\n",
       "  'latinos',\n",
       "  'christians',\n",
       "  'italians',\n",
       "  'irish',\n",
       "  'and',\n",
       "  'more',\n",
       "  'so',\n",
       "  'scuffles',\n",
       "  'death',\n",
       "  'stares',\n",
       "  'dodgy',\n",
       "  'dealings',\n",
       "  'and',\n",
       "  'shady',\n",
       "  'agreements',\n",
       "  'are',\n",
       "  'never',\n",
       "  'far',\n",
       "  'away',\n",
       "  'br',\n",
       "  'br',\n",
       "  'would',\n",
       "  'say',\n",
       "  'the',\n",
       "  'main',\n",
       "  'appeal',\n",
       "  'of',\n",
       "  'the',\n",
       "  'show',\n",
       "  'is',\n",
       "  'due',\n",
       "  'to',\n",
       "  'the',\n",
       "  'fact',\n",
       "  'that',\n",
       "  'it',\n",
       "  'goes',\n",
       "  'where',\n",
       "  'other',\n",
       "  'shows',\n",
       "  'wouldn',\n",
       "  'dare',\n",
       "  'forget',\n",
       "  'pretty',\n",
       "  'pictures',\n",
       "  'painted',\n",
       "  'for',\n",
       "  'mainstream',\n",
       "  'audiences',\n",
       "  'forget',\n",
       "  'charm',\n",
       "  'forget',\n",
       "  'romance',\n",
       "  'oz',\n",
       "  'doesn',\n",
       "  'mess',\n",
       "  'around',\n",
       "  'the',\n",
       "  'first',\n",
       "  'episode',\n",
       "  'ever',\n",
       "  'saw',\n",
       "  'struck',\n",
       "  'me',\n",
       "  'as',\n",
       "  'so',\n",
       "  'nasty',\n",
       "  'it',\n",
       "  'was',\n",
       "  'surreal',\n",
       "  'couldn',\n",
       "  'say',\n",
       "  'was',\n",
       "  'ready',\n",
       "  'for',\n",
       "  'it',\n",
       "  'but',\n",
       "  'as',\n",
       "  'watched',\n",
       "  'more',\n",
       "  'developed',\n",
       "  'taste',\n",
       "  'for',\n",
       "  'oz',\n",
       "  'and',\n",
       "  'got',\n",
       "  'accustomed',\n",
       "  'to',\n",
       "  'the',\n",
       "  'high',\n",
       "  'levels',\n",
       "  'of',\n",
       "  'graphic',\n",
       "  'violence',\n",
       "  'not',\n",
       "  'just',\n",
       "  'violence',\n",
       "  'but',\n",
       "  'injustice',\n",
       "  'crooked',\n",
       "  'guards',\n",
       "  'who',\n",
       "  'll',\n",
       "  'be',\n",
       "  'sold',\n",
       "  'out',\n",
       "  'for',\n",
       "  'nickel',\n",
       "  'inmates',\n",
       "  'who',\n",
       "  'll',\n",
       "  'kill',\n",
       "  'on',\n",
       "  'order',\n",
       "  'and',\n",
       "  'get',\n",
       "  'away',\n",
       "  'with',\n",
       "  'it',\n",
       "  'well',\n",
       "  'mannered',\n",
       "  'middle',\n",
       "  'class',\n",
       "  'inmates',\n",
       "  'being',\n",
       "  'turned',\n",
       "  'into',\n",
       "  'prison',\n",
       "  'bitches',\n",
       "  'due',\n",
       "  'to',\n",
       "  'their',\n",
       "  'lack',\n",
       "  'of',\n",
       "  'street',\n",
       "  'skills',\n",
       "  'or',\n",
       "  'prison',\n",
       "  'experience',\n",
       "  'watching',\n",
       "  'oz',\n",
       "  'you',\n",
       "  'may',\n",
       "  'become',\n",
       "  'comfortable',\n",
       "  'with',\n",
       "  'what',\n",
       "  'is',\n",
       "  'uncomfortable',\n",
       "  'viewing',\n",
       "  'thats',\n",
       "  'if',\n",
       "  'you',\n",
       "  'can',\n",
       "  'get',\n",
       "  'in',\n",
       "  'touch',\n",
       "  'with',\n",
       "  'your',\n",
       "  'darker',\n",
       "  'side']]"
      ]
     },
     "execution_count": 42,
     "metadata": {},
     "output_type": "execute_result"
    }
   ],
   "source": [
    "data_words[:1]"
   ]
  },
  {
   "cell_type": "code",
   "execution_count": null,
   "id": "5c12024d-e285-4f5d-bd31-3e6daa6adf67",
   "metadata": {},
   "outputs": [],
   "source": []
  }
 ],
 "metadata": {
  "kernelspec": {
   "display_name": "Python 3 (ipykernel)",
   "language": "python",
   "name": "python3"
  },
  "language_info": {
   "codemirror_mode": {
    "name": "ipython",
    "version": 3
   },
   "file_extension": ".py",
   "mimetype": "text/x-python",
   "name": "python",
   "nbconvert_exporter": "python",
   "pygments_lexer": "ipython3",
   "version": "3.10.12"
  }
 },
 "nbformat": 4,
 "nbformat_minor": 5
}
