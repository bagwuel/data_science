{
 "cells": [
  {
   "cell_type": "code",
   "execution_count": 1,
   "id": "d4016c8b-d3d4-4b4f-98a4-11096a116f10",
   "metadata": {},
   "outputs": [],
   "source": [
    "import pandas as pd\n",
    "import sqlite3"
   ]
  },
  {
   "cell_type": "code",
   "execution_count": 2,
   "id": "4c697ec0-b95f-4e52-b283-d3590a4bcde3",
   "metadata": {},
   "outputs": [],
   "source": [
    "con = sqlite3.connect(\"accident_data_v1.0.0_2023.db\")"
   ]
  },
  {
   "cell_type": "code",
   "execution_count": 3,
   "id": "6f4157f2-b796-4923-a351-ab744cbfe10b",
   "metadata": {},
   "outputs": [],
   "source": [
    "cur = con.cursor()"
   ]
  },
  {
   "cell_type": "code",
   "execution_count": 4,
   "id": "f2e92c12-de5d-44eb-ab87-e11f70e71711",
   "metadata": {},
   "outputs": [
    {
     "data": {
      "text/plain": [
       "['accident', 'casualty', 'lsoa', 'vehicle']"
      ]
     },
     "execution_count": 4,
     "metadata": {},
     "output_type": "execute_result"
    }
   ],
   "source": [
    "table_list = cur.execute(\"SELECT name FROM sqlite_master WHERE type='table' ORDER BY name;\").fetchall()\n",
    "table_list = [x[0] for x in table_list]\n",
    "table_list"
   ]
  },
  {
   "cell_type": "markdown",
   "id": "cd6ac54d-c2b5-4965-aac5-eb433f45d968",
   "metadata": {},
   "source": [
    "# SQL command to show the age of the oldest driver/rider in the casualty table"
   ]
  },
  {
   "cell_type": "code",
   "execution_count": 5,
   "id": "335ac0bd-51e4-49d4-ad7d-c0f5852b197c",
   "metadata": {},
   "outputs": [
    {
     "name": "stdout",
     "output_type": "stream",
     "text": [
      "The age of the oldest driver/rider in the casualty table is 101\n"
     ]
    }
   ],
   "source": [
    "age_of_oldest_driver = cur.execute('SELECT MAX(age_of_casualty) AS oldest_driver FROM casualty WHERE casualty_class = 1').fetchone()\n",
    "print('The age of the oldest driver/rider in the casualty table is', age_of_oldest_driver[0])"
   ]
  },
  {
   "cell_type": "markdown",
   "id": "dae192a3-a306-4959-85db-0095e0d40293",
   "metadata": {},
   "source": [
    "# SQL command to show the total number of vehicle_type = 19 vehicles in the vehicle table"
   ]
  },
  {
   "cell_type": "code",
   "execution_count": 6,
   "id": "f360e098-b9c9-482f-839c-85554d6c2a1a",
   "metadata": {},
   "outputs": [
    {
     "name": "stdout",
     "output_type": "stream",
     "text": [
      "The total number of vehicle_type = 19 vehicles in the vehicle table is 47458\n"
     ]
    }
   ],
   "source": [
    "total_number_of_vehicle_type19 = cur.execute('SELECT COUNT(*) AS total_vehicles FROM vehicle WHERE vehicle_type = 19').fetchone()\n",
    "print('The total number of vehicle_type = 19 vehicles in the vehicle table is', total_number_of_vehicle_type19[0])"
   ]
  },
  {
   "cell_type": "markdown",
   "id": "ca32f212-7c4a-4c8c-92fa-b64b98c6888e",
   "metadata": {},
   "source": [
    "# The sex of driver, sex of casualty, speed limit and age of vehicle for accidents in all the lower layer super output area (LSOA) regions of Kingston Upon Hull"
   ]
  },
  {
   "cell_type": "code",
   "execution_count": 7,
   "id": "41f176ac-2e4d-42ab-81d9-83f67ea522c5",
   "metadata": {},
   "outputs": [
    {
     "data": {
      "text/html": [
       "<div>\n",
       "<style scoped>\n",
       "    .dataframe tbody tr th:only-of-type {\n",
       "        vertical-align: middle;\n",
       "    }\n",
       "\n",
       "    .dataframe tbody tr th {\n",
       "        vertical-align: top;\n",
       "    }\n",
       "\n",
       "    .dataframe thead th {\n",
       "        text-align: right;\n",
       "    }\n",
       "</style>\n",
       "<table border=\"1\" class=\"dataframe\">\n",
       "  <thead>\n",
       "    <tr style=\"text-align: right;\">\n",
       "      <th></th>\n",
       "      <th>sex_of_driver</th>\n",
       "      <th>sex_of_casualty</th>\n",
       "      <th>speed_limit</th>\n",
       "      <th>age_of_vehicle</th>\n",
       "    </tr>\n",
       "  </thead>\n",
       "  <tbody>\n",
       "    <tr>\n",
       "      <th>0</th>\n",
       "      <td>1</td>\n",
       "      <td>1</td>\n",
       "      <td>30</td>\n",
       "      <td>9</td>\n",
       "    </tr>\n",
       "    <tr>\n",
       "      <th>1</th>\n",
       "      <td>1</td>\n",
       "      <td>1</td>\n",
       "      <td>30</td>\n",
       "      <td>13</td>\n",
       "    </tr>\n",
       "    <tr>\n",
       "      <th>2</th>\n",
       "      <td>1</td>\n",
       "      <td>2</td>\n",
       "      <td>30</td>\n",
       "      <td>11</td>\n",
       "    </tr>\n",
       "    <tr>\n",
       "      <th>3</th>\n",
       "      <td>3</td>\n",
       "      <td>2</td>\n",
       "      <td>30</td>\n",
       "      <td>6</td>\n",
       "    </tr>\n",
       "    <tr>\n",
       "      <th>4</th>\n",
       "      <td>1</td>\n",
       "      <td>1</td>\n",
       "      <td>30</td>\n",
       "      <td>11</td>\n",
       "    </tr>\n",
       "    <tr>\n",
       "      <th>...</th>\n",
       "      <td>...</td>\n",
       "      <td>...</td>\n",
       "      <td>...</td>\n",
       "      <td>...</td>\n",
       "    </tr>\n",
       "    <tr>\n",
       "      <th>6382</th>\n",
       "      <td>1</td>\n",
       "      <td>1</td>\n",
       "      <td>30</td>\n",
       "      <td>-1</td>\n",
       "    </tr>\n",
       "    <tr>\n",
       "      <th>6383</th>\n",
       "      <td>1</td>\n",
       "      <td>1</td>\n",
       "      <td>30</td>\n",
       "      <td>-1</td>\n",
       "    </tr>\n",
       "    <tr>\n",
       "      <th>6384</th>\n",
       "      <td>1</td>\n",
       "      <td>1</td>\n",
       "      <td>30</td>\n",
       "      <td>-1</td>\n",
       "    </tr>\n",
       "    <tr>\n",
       "      <th>6385</th>\n",
       "      <td>1</td>\n",
       "      <td>1</td>\n",
       "      <td>30</td>\n",
       "      <td>-1</td>\n",
       "    </tr>\n",
       "    <tr>\n",
       "      <th>6386</th>\n",
       "      <td>3</td>\n",
       "      <td>1</td>\n",
       "      <td>30</td>\n",
       "      <td>-1</td>\n",
       "    </tr>\n",
       "  </tbody>\n",
       "</table>\n",
       "<p>6387 rows × 4 columns</p>\n",
       "</div>"
      ],
      "text/plain": [
       "      sex_of_driver  sex_of_casualty  speed_limit  age_of_vehicle\n",
       "0                 1                1           30               9\n",
       "1                 1                1           30              13\n",
       "2                 1                2           30              11\n",
       "3                 3                2           30               6\n",
       "4                 1                1           30              11\n",
       "...             ...              ...          ...             ...\n",
       "6382              1                1           30              -1\n",
       "6383              1                1           30              -1\n",
       "6384              1                1           30              -1\n",
       "6385              1                1           30              -1\n",
       "6386              3                1           30              -1\n",
       "\n",
       "[6387 rows x 4 columns]"
      ]
     },
     "execution_count": 7,
     "metadata": {},
     "output_type": "execute_result"
    }
   ],
   "source": [
    "sqlQuery = '''\n",
    "    SELECT v.sex_of_driver, c.sex_of_casualty, a.speed_limit, v.age_of_vehicle\n",
    "    FROM accident a\n",
    "    JOIN casualty c ON a.accident_index = c.accident_index\n",
    "    JOIN vehicle v ON a.accident_index = v.accident_index\n",
    "    JOIN lsoa l ON a.lsoa_of_accident_location = l.lsoa01cd\n",
    "    WHERE\n",
    "        l.lsoa01nm LIKE 'Kingston Upon Hull%'\n",
    "'''\n",
    "\n",
    "df = pd.read_sql_query(sqlQuery, con)\n",
    "df"
   ]
  },
  {
   "cell_type": "code",
   "execution_count": null,
   "id": "fa050622-1bc5-4f3b-b6b3-a5c27410d53d",
   "metadata": {},
   "outputs": [],
   "source": []
  }
 ],
 "metadata": {
  "kernelspec": {
   "display_name": "Python 3 (ipykernel)",
   "language": "python",
   "name": "python3"
  },
  "language_info": {
   "codemirror_mode": {
    "name": "ipython",
    "version": 3
   },
   "file_extension": ".py",
   "mimetype": "text/x-python",
   "name": "python",
   "nbconvert_exporter": "python",
   "pygments_lexer": "ipython3",
   "version": "3.10.12"
  }
 },
 "nbformat": 4,
 "nbformat_minor": 5
}
