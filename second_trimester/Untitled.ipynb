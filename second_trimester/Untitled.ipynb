{
 "cells": [
  {
   "cell_type": "code",
   "execution_count": 2,
   "id": "1ede1061-66a3-4087-9c19-f508d732668c",
   "metadata": {},
   "outputs": [
    {
     "name": "stdout",
     "output_type": "stream",
     "text": [
      "Empty DataFrame\n",
      "Columns: [sex_of_driver, sex_of_casualty, speed_limit, age_of_vehicle]\n",
      "Index: []\n"
     ]
    }
   ],
   "source": [
    "import pandas as pd\n",
    "import sqlite3\n",
    "\n",
    "# Establish connection to your SQLite database (replace 'your_database.db' with the actual path to your database file)\n",
    "con = sqlite3.connect('accident_data_v1.0.0_2023.db')\n",
    "\n",
    "# Define the SQL query\n",
    "sqlQuery = '''\n",
    "    SELECT v.sex_of_driver, c.sex_of_casualty, a.speed_limit, v.age_of_vehicle\n",
    "    FROM accident a\n",
    "    JOIN casualty c ON a.accident_index = c.accident_index\n",
    "    JOIN vehicle v ON a.accident_index = v.accident_index\n",
    "    JOIN lsoa l ON a.lsoa_of_accident_location = l.lsoa01cd\n",
    "    WHERE\n",
    "        l.lsoa01nm LIKE 'Kingston Upon Hull'\n",
    "'''\n",
    "\n",
    "# Execute the SQL query and store the results in a DataFrame\n",
    "df = pd.read_sql_query(sqlQuery, con)\n",
    "\n",
    "# Close the database connection\n",
    "con.close()\n",
    "\n",
    "# Display the DataFrame\n",
    "print(df)\n"
   ]
  },
  {
   "cell_type": "code",
   "execution_count": null,
   "id": "b4775206-9ccc-491f-a8d1-62747a23e1e1",
   "metadata": {},
   "outputs": [],
   "source": []
  }
 ],
 "metadata": {
  "kernelspec": {
   "display_name": "Python 3 (ipykernel)",
   "language": "python",
   "name": "python3"
  },
  "language_info": {
   "codemirror_mode": {
    "name": "ipython",
    "version": 3
   },
   "file_extension": ".py",
   "mimetype": "text/x-python",
   "name": "python",
   "nbconvert_exporter": "python",
   "pygments_lexer": "ipython3",
   "version": "3.10.12"
  }
 },
 "nbformat": 4,
 "nbformat_minor": 5
}
